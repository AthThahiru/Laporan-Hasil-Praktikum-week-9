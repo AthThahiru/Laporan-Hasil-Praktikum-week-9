{
  "nbformat": 4,
  "nbformat_minor": 0,
  "metadata": {
    "colab": {
      "provenance": [],
      "authorship_tag": "ABX9TyPr84PzK6tOb/scHni7YktJ",
      "include_colab_link": true
    },
    "kernelspec": {
      "name": "python3",
      "display_name": "Python 3"
    },
    "language_info": {
      "name": "python"
    }
  },
  "cells": [
    {
      "cell_type": "markdown",
      "metadata": {
        "id": "view-in-github",
        "colab_type": "text"
      },
      "source": [
        "<a href=\"https://colab.research.google.com/github/AthThahiru/Laporan-Hasil-Praktikum-week-9/blob/main/Week_09_ipnyb.ipynb\" target=\"_parent\"><img src=\"https://colab.research.google.com/assets/colab-badge.svg\" alt=\"Open In Colab\"/></a>"
      ]
    },
    {
      "cell_type": "markdown",
      "source": [
        "# Weekly Exercise 1"
      ],
      "metadata": {
        "id": "TAyi3vTRNxSo"
      }
    },
    {
      "cell_type": "code",
      "execution_count": null,
      "metadata": {
        "id": "Tt6S36lFM2EN"
      },
      "outputs": [],
      "source": [
        "# Tuple digunakan jika ingin struktur data tidak dapat diubah ubah\n",
        "# Set digunakan jika ingin data yang disimpan tidak ada yang sama\n",
        "# List digunakan jika ingin data disimpan secara berurutan\n",
        "# Dictionary digunakan saat ingin mengakses data menggunakan key"
      ]
    },
    {
      "cell_type": "code",
      "source": [],
      "metadata": {
        "id": "TisQ1mA5tSBP"
      },
      "execution_count": null,
      "outputs": []
    },
    {
      "cell_type": "markdown",
      "source": [
        "# Weekly Exercise 2"
      ],
      "metadata": {
        "id": "MNucUwPjNwZc"
      }
    },
    {
      "cell_type": "code",
      "source": [
        "mhs    =  {\n",
        "    \"Nama          \" : \"Muhammad Fikrie Ath Thahiru\" ,\n",
        "    \"Kelas         \" : \"Teknologi Informasi 2024 Rombel 3\" ,\n",
        "    \"Tanggal Lahir \" : \"06 November 2005\" ,\n",
        "    \"Nomor HP      \" : \"085647911650\" ,\n",
        "    \"Alamat        \" : \"Perum Bagongan Asri, JL. Pandawa A.05, Sukorejo, Mertoyudan, Magelang\" ,\n",
        "    \"Hobi          \" : [\"Membaca\", \"Main Game\", \"Jalan-jalan\"]\n",
        "}\n",
        "\n",
        "for key, value in mhs.items() :\n",
        "  if isinstance (value, list) :\n",
        "    print (f\"{key}:\")\n",
        "    for index, hobi in enumerate (value, start=1) :\n",
        "      print (f\" {index}. {hobi}\")\n",
        "  else :\n",
        "    print (f\"{key}: {value}\")"
      ],
      "metadata": {
        "id": "J5XCISUEQn04",
        "colab": {
          "base_uri": "https://localhost:8080/"
        },
        "outputId": "ba130b54-329e-4728-82c3-48debd6983f5"
      },
      "execution_count": null,
      "outputs": [
        {
          "output_type": "stream",
          "name": "stdout",
          "text": [
            "Nama          : Muhammad Fikrie Ath Thahiru\n",
            "Kelas         : Teknologi Informasi 2024 Rombel 3\n",
            "Tanggal Lahir : 06 November 2005\n",
            "Nomor HP      : 085647911650\n",
            "Alamat        : Perum Bagongan Asri, JL. Pandawa A.05, Sukorejo, Mertoyudan, Magelang\n",
            "Hobi          :\n",
            " 1. Membaca\n",
            " 2. Main Game\n",
            " 3. Jalan-jalan\n"
          ]
        }
      ]
    }
  ]
}